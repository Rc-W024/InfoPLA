{
  "nbformat": 4,
  "nbformat_minor": 0,
  "metadata": {
    "colab": {
      "provenance": []
    },
    "kernelspec": {
      "name": "python3",
      "display_name": "Python 3"
    },
    "language_info": {
      "name": "python"
    }
  },
  "cells": [
    {
      "cell_type": "code",
      "execution_count": null,
      "metadata": {
        "id": "9vQEFvbhQ70R"
      },
      "outputs": [],
      "source": [
        "from concurrent.futures import ThreadPoolExecutor\n",
        "import pandas as pd\n",
        "import requests as re\n",
        "import time\n",
        "\n",
        "# URL\n",
        "url = lambda i:\"http://111.203.147.109:9998/enroll/post/listVisitor?page=\"+str(i)+\"&limit=50&queryStr=\"\n",
        "\n",
        "p = pd.DataFrame()\n",
        "\n",
        "i = 1\n",
        "num_page = 60 # 根据实际页数调整\n",
        "while i < num_page:\n",
        "    try:\n",
        "        tempD = re.get(url(int(i)))\n",
        "    except:\n",
        "        continue\n",
        "    print('第{}页获取完成'.format(i))\n",
        "    i += 1\n",
        "    for j in tempD.json()['data']['data']:\n",
        "        try:\n",
        "            p = pd.concat([p,pd.json_normalize(j)])\n",
        "        except Exception as e:\n",
        "            print(type(e))\n",
        "    time.sleep(1)\n",
        "\n",
        "d = p.drop_duplicates()\n",
        "d.to_excel('save.xlsx')\n"
      ]
    },
    {
      "cell_type": "code",
      "source": [],
      "metadata": {
        "id": "Q60Em3zwQ8S9"
      },
      "execution_count": null,
      "outputs": []
    }
  ]
}
